{
 "cells": [
  {
   "cell_type": "code",
   "execution_count": null,
   "metadata": {},
   "outputs": [],
   "source": [
    "import numpy as np\n",
    "import pandas as pd\n",
    "import json\n",
    "import matplotlib.pyplot as plt\n",
    "import seaborn as sns"
   ]
  },
  {
   "cell_type": "code",
   "execution_count": null,
   "metadata": {},
   "outputs": [],
   "source": [
    "df = pd.read_csv('data/x_train.csv')\n",
    "df2 = pd.read_csv('data/y_train.csv')\n",
    "x_train = df.copy()\n",
    "y_train = df2.copy()\n",
    "\n",
    "filter1 = pd.read_json('filter.json')"
   ]
  },
  {
   "cell_type": "code",
   "execution_count": null,
   "metadata": {},
   "outputs": [],
   "source": [
    "# x_train.iloc[:, 14:].head() # Take the filtered features instead\n",
    "filter1_titles = filter1[\"title\"].tolist()\n",
    "x_train_f1 = x_train[filter1_titles] # doesn't work\n",
    "x_train_f1.head()"
   ]
  },
  {
   "cell_type": "markdown",
   "metadata": {},
   "source": [
    "## Correlation"
   ]
  },
  {
   "cell_type": "code",
   "execution_count": null,
   "metadata": {},
   "outputs": [],
   "source": [
    "fig = plt.figure(figsize=(10, 10))\n",
    "sns.heatmap(x_train_f1.corr(), fmt='.2f')\n",
    "\n",
    "# 2nd filter makes a set with the features that are not correlated with each other"
   ]
  },
  {
   "cell_type": "code",
   "execution_count": null,
   "metadata": {},
   "outputs": [],
   "source": [
    "features = x_train_f1.columns\n",
    "rows, cols = [int(len(features)**0.5)]*2\n",
    "fig, axes = plt.subplots(rows, cols, figsize=(10, 10), tight_layout=True)\n",
    "count = 0\n",
    "for i in range(rows):\n",
    "    for j in range(cols):\n",
    "        axes[i, j].scatter(x_train_f1.iloc[:, count], y_train)\n",
    "        axes[i, j].set_title(features[count])\n",
    "        count += 1"
   ]
  },
  {
   "cell_type": "code",
   "execution_count": null,
   "metadata": {},
   "outputs": [],
   "source": [
    "fig = plt.figure(figsize=(5, 5))\n",
    "sns.histplot(x_train_f1.iloc[:, 0])\n",
    "plt.xlim(0, 1000)\n",
    "plt.ylim(0, 20000)"
   ]
  },
  {
   "cell_type": "markdown",
   "metadata": {},
   "source": [
    "## Train the model"
   ]
  },
  {
   "cell_type": "code",
   "execution_count": null,
   "metadata": {},
   "outputs": [],
   "source": [
    "from implementations import least_squares, ridge_regression\n",
    "\n",
    "# All rows contain NaN values => Dropping them all would result in an empty dataset\n",
    "# x_train_c = x_train_f1.dropna() # x_train cleaned by dropping all rows containing NaN value(s)\n",
    "# Instead, let's replace NaN values by the mean of the column\n",
    "x_train_c = x_train_f1.fillna(x_train_f1.mean())\n",
    "print(x_train_c.values)\n",
    "\n",
    "weights, mse = least_squares(y_train.values, x_train_c.values)\n",
    "print(\"Weights: \" + str(weights) + \"\\nMSE: \" + str(mse))"
   ]
  },
  {
   "cell_type": "markdown",
   "metadata": {},
   "source": [
    "## Make predictions"
   ]
  },
  {
   "cell_type": "code",
   "execution_count": null,
   "metadata": {},
   "outputs": [],
   "source": [
    "# Now, we can use the weights to predict which columns correlate the most with y_train\n",
    "\n",
    "y_pred = x_train_c.values.dot(weights)\n",
    "print(\"y_pred: \" + str(y_pred))\n",
    "\n",
    "# Let's transform the predictions with values from 0 to 1\n",
    "\n",
    "y_pred_norm = (y_pred - y_pred.min()) / (y_pred.max() - y_pred.min())\n",
    "\n",
    "# If the value is above 0.5, we consider it to be 1, otherwise 0\n",
    "\n",
    "y_pred_norm[y_pred_norm > 0.5] = 1\n",
    "y_pred_norm[y_pred_norm <= 0.5] = 0\n",
    "\n",
    "# Let's store the predictions in a submission_file.csv in CSV format without index_label\n",
    "\n",
    "submission_file = pd.DataFrame(y_pred_norm, columns=[\"_MICHD\"])\n",
    "submission_file.to_csv('submission_file.csv', index=False)\n",
    "\n",
    "\n",
    "\n"
   ]
  }
 ],
 "metadata": {
  "kernelspec": {
   "display_name": "base",
   "language": "python",
   "name": "python3"
  },
  "language_info": {
   "codemirror_mode": {
    "name": "ipython",
    "version": 3
   },
   "file_extension": ".py",
   "mimetype": "text/x-python",
   "name": "python",
   "nbconvert_exporter": "python",
   "pygments_lexer": "ipython3",
   "version": "3.11.4"
  }
 },
 "nbformat": 4,
 "nbformat_minor": 2
}
