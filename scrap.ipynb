{
 "cells": [
  {
   "cell_type": "code",
   "execution_count": null,
   "metadata": {},
   "outputs": [],
   "source": [
    "import numpy as np\n",
    "import pandas as pd\n",
    "import json\n",
    "import matplotlib.pyplot as plt\n",
    "import seaborn as sns"
   ]
  },
  {
   "cell_type": "code",
   "execution_count": null,
   "metadata": {},
   "outputs": [],
   "source": [
    "df = pd.read_csv('data/x_train.csv')\n",
    "df2 = pd.read_csv('data/y_train.csv')\n",
    "x_train = df.copy()\n",
    "y_train = df2.copy()\n",
    "\n",
    "filter1 = pd.read_json('filter.json')"
   ]
  },
  {
   "cell_type": "code",
   "execution_count": null,
   "metadata": {},
   "outputs": [],
   "source": [
    "# x_train.iloc[:, 14:].head() # Take the filtered features instead\n",
    "filter1_titles = filter1[\"title\"].tolist()\n",
    "x_train_f1 = x_train[filter1_titles] # doesn't work\n",
    "x_train_f1.head()"
   ]
  },
  {
   "cell_type": "markdown",
   "metadata": {},
   "source": [
    "## Correlation"
   ]
  },
  {
   "cell_type": "code",
   "execution_count": null,
   "metadata": {},
   "outputs": [],
   "source": [
    "fig = plt.figure(figsize=(10, 10))\n",
    "sns.heatmap(x_train_f1.corr(), fmt='.2f')\n",
    "\n",
    "# 2nd filter makes a set with the features that are not correlated with each other"
   ]
  },
  {
   "cell_type": "code",
   "execution_count": null,
   "metadata": {},
   "outputs": [],
   "source": [
    "features = x_train.columns\n",
    "rows, cols = [int(len(features)**0.5)]*2\n",
    "fig, axes = plt.subplots(rows, cols, figsize=(10, 10), tight_layout=True)\n",
    "count = 0\n",
    "for i in range(rows):\n",
    "    for j in range(cols):\n",
    "        axes[i, j].scatter(x_train.iloc[:, count], y_train)\n",
    "        axes[i, j].set_title(features[count])\n",
    "        count += 1"
   ]
  },
  {
   "cell_type": "code",
   "execution_count": null,
   "metadata": {},
   "outputs": [],
   "source": [
    "fig = plt.figure(figsize=(5, 5))\n",
    "sns.histplot(x_train.iloc[:, 0])\n",
    "plt.xlim(0, 1000)\n",
    "plt.ylim(0, 20000)"
   ]
  },
  {
   "cell_type": "markdown",
   "metadata": {},
   "source": [
    "## Train the model"
   ]
  },
  {
   "cell_type": "code",
   "execution_count": null,
   "metadata": {},
   "outputs": [],
   "source": [
    "from implementations import least_squares, ridge_regression\n",
    "\n",
    "weights, mse = least_squares(y_train, x_train_f1)\n",
    "\n",
    "print(\"Weights: \" + str(weights) + \"\\nMSE: \" + str(mse))"
   ]
  }
 ],
 "metadata": {
  "kernelspec": {
   "display_name": "base",
   "language": "python",
   "name": "python3"
  },
  "language_info": {
   "codemirror_mode": {
    "name": "ipython",
    "version": 3
   },
   "file_extension": ".py",
   "mimetype": "text/x-python",
   "name": "python",
   "nbconvert_exporter": "python",
   "pygments_lexer": "ipython3",
   "version": "3.11.4"
  }
 },
 "nbformat": 4,
 "nbformat_minor": 2
}
